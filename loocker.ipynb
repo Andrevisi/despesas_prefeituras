{
 "cells": [
  {
   "cell_type": "code",
   "execution_count": 12,
   "metadata": {},
   "outputs": [],
   "source": [
    "import pandas as pd\n",
    "import os\n",
    "from google.cloud import bigquery\n",
    "from google.oauth2 import service_account"
   ]
  },
  {
   "cell_type": "code",
   "execution_count": 3,
   "metadata": {},
   "outputs": [],
   "source": [
    "despesas = pd.read_csv('despesas.csv', sep=',', header=[0], encoding=\"utf-8\")"
   ]
  },
  {
   "cell_type": "code",
   "execution_count": 17,
   "metadata": {},
   "outputs": [],
   "source": [
    "resumo_despesa = despesas[['ano_exercicio', 'ds_municipio', 'ds_orgao', 'ds_despesa', 'tp_despesa', 'vl_despesa', 'ds_elemento', 'historico_despesa']]\\\n",
    "    .query('tp_despesa == \"Empenhado\" or tp_despesa == \"Reforço\" or tp_despesa == \"Anulação\"')\n",
    "\n",
    "resumo_despesa.loc[resumo_despesa.tp_despesa == \"Anulação\", 'vl_despesa'] = resumo_despesa.vl_despesa * -1\n",
    "\n",
    "resumo_despesa['ds_elemento'] = resumo_despesa['ds_elemento'].str[0:2]"
   ]
  },
  {
   "cell_type": "code",
   "execution_count": 18,
   "metadata": {},
   "outputs": [],
   "source": [
    "lista_cc = [\n",
    "    ('31', 'Pessoal_e_Encargos_Sociais'),\n",
    "    ('32', 'Juros_e_Encargos_da_Divida'),\n",
    "    ('33', 'Outras_Despesas_Correntes'),\n",
    "    ('44', 'Investimentos'),\n",
    "    ('45', 'Inversões_Financeiras'),\n",
    "    ('46', 'Amortizacao_da_Divida')\n",
    "]\n",
    "\n",
    "lista_cc = pd.DataFrame(lista_cc)\n",
    "lista_cc.columns = ['ds_elemento','desc']\n"
   ]
  },
  {
   "cell_type": "code",
   "execution_count": 19,
   "metadata": {},
   "outputs": [],
   "source": [
    "resumo_despesa = pd.merge(resumo_despesa, lista_cc, how='inner')"
   ]
  },
  {
   "cell_type": "code",
   "execution_count": 21,
   "metadata": {},
   "outputs": [],
   "source": [
    "credentials = service_account.Credentials.from_service_account_file(filename='GBQ.json',\n",
    "                                                 scopes=['https://www.googleapis.com/auth/cloud-platform'])"
   ]
  },
  {
   "cell_type": "code",
   "execution_count": 23,
   "metadata": {},
   "outputs": [
    {
     "name": "stderr",
     "output_type": "stream",
     "text": [
      "100%|██████████| 1/1 [00:00<00:00, 2894.62it/s]\n"
     ]
    }
   ],
   "source": [
    "resumo_despesa.to_gbq(credentials=credentials,\n",
    "                      destination_table='despesas-378818.despesas.despesas_municipios2',\n",
    "                      if_exists='replace')"
   ]
  },
  {
   "cell_type": "code",
   "execution_count": 65,
   "metadata": {},
   "outputs": [],
   "source": [
    "resumo_despesa.to_csv('loocker_despesa.csv', index=False)"
   ]
  }
 ],
 "metadata": {
  "kernelspec": {
   "display_name": "Python 3",
   "language": "python",
   "name": "python3"
  },
  "language_info": {
   "codemirror_mode": {
    "name": "ipython",
    "version": 3
   },
   "file_extension": ".py",
   "mimetype": "text/x-python",
   "name": "python",
   "nbconvert_exporter": "python",
   "pygments_lexer": "ipython3",
   "version": "3.10.10"
  },
  "orig_nbformat": 4,
  "vscode": {
   "interpreter": {
    "hash": "e7370f93d1d0cde622a1f8e1c04877d8463912d04d973331ad4851f04de6915a"
   }
  }
 },
 "nbformat": 4,
 "nbformat_minor": 2
}
